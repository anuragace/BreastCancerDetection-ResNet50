{
  "cells": [
    {
      "cell_type": "code",
      "execution_count": null,
      "id": "51bf174b-d648-4c4f-9f0b-7de61aa63741",
      "metadata": {
        "id": "51bf174b-d648-4c4f-9f0b-7de61aa63741",
        "outputId": "9a4d66b5-fcf2-4f40-af11-08c723824af8"
      },
      "outputs": [
        {
          "name": "stdout",
          "output_type": "stream",
          "text": [
            "Requirement already satisfied: torch in o:\\sem3\\env\\lib\\site-packages (2.1.1+cu121)\n",
            "Requirement already satisfied: torchvision in o:\\sem3\\env\\lib\\site-packages (0.16.1+cu121)\n",
            "Requirement already satisfied: filelock in o:\\sem3\\env\\lib\\site-packages (from torch) (3.12.4)\n",
            "Requirement already satisfied: typing-extensions in o:\\sem3\\env\\lib\\site-packages (from torch) (4.5.0)\n",
            "Requirement already satisfied: sympy in o:\\sem3\\env\\lib\\site-packages (from torch) (1.12)\n",
            "Requirement already satisfied: networkx in o:\\sem3\\env\\lib\\site-packages (from torch) (3.2)\n",
            "Requirement already satisfied: jinja2 in o:\\sem3\\env\\lib\\site-packages (from torch) (3.1.2)\n",
            "Requirement already satisfied: fsspec in o:\\sem3\\env\\lib\\site-packages (from torch) (2023.9.2)\n",
            "Requirement already satisfied: numpy in o:\\sem3\\env\\lib\\site-packages (from torchvision) (1.24.3)\n",
            "Requirement already satisfied: requests in o:\\sem3\\env\\lib\\site-packages (from torchvision) (2.31.0)\n",
            "Requirement already satisfied: pillow!=8.3.*,>=5.3.0 in o:\\sem3\\env\\lib\\site-packages (from torchvision) (10.1.0)\n",
            "Requirement already satisfied: MarkupSafe>=2.0 in o:\\sem3\\env\\lib\\site-packages (from jinja2->torch) (2.1.3)\n",
            "Requirement already satisfied: charset-normalizer<4,>=2 in o:\\sem3\\env\\lib\\site-packages (from requests->torchvision) (3.3.0)\n",
            "Requirement already satisfied: idna<4,>=2.5 in o:\\sem3\\env\\lib\\site-packages (from requests->torchvision) (3.4)\n",
            "Requirement already satisfied: urllib3<3,>=1.21.1 in o:\\sem3\\env\\lib\\site-packages (from requests->torchvision) (2.0.6)\n",
            "Requirement already satisfied: certifi>=2017.4.17 in o:\\sem3\\env\\lib\\site-packages (from requests->torchvision) (2023.7.22)\n",
            "Requirement already satisfied: mpmath>=0.19 in o:\\sem3\\env\\lib\\site-packages (from sympy->torch) (1.3.0)\n",
            "Note: you may need to restart the kernel to use updated packages.\n"
          ]
        }
      ],
      "source": [
        "pip install torch torchvision"
      ]
    },
    {
      "cell_type": "code",
      "execution_count": 1,
      "id": "8666d905-0ce8-467e-89e0-c3323e626867",
      "metadata": {
        "id": "8666d905-0ce8-467e-89e0-c3323e626867"
      },
      "outputs": [],
      "source": [
        "import os\n",
        "import torch\n",
        "import torchvision\n",
        "import torchvision.transforms as transforms\n",
        "from torchvision import datasets, models\n",
        "import torch.optim as optim\n",
        "import numpy as np\n",
        "import copy\n",
        "from torch.utils.data import Dataset, DataLoader, SubsetRandomSampler\n",
        "from PIL import Image"
      ]
    },
    {
      "cell_type": "code",
      "execution_count": 2,
      "id": "f09b9675-52b0-45ce-b59a-e26bd3b9f833",
      "metadata": {
        "colab": {
          "base_uri": "https://localhost:8080/"
        },
        "id": "f09b9675-52b0-45ce-b59a-e26bd3b9f833",
        "outputId": "66792895-8d95-41f7-a1e5-aedbb51bf896"
      },
      "outputs": [
        {
          "output_type": "stream",
          "name": "stdout",
          "text": [
            "PyTorch Version: 2.2.1+cu121\n",
            "CUDA Available: False\n",
            "CUDA Version: 12.1\n"
          ]
        }
      ],
      "source": [
        "print(\"PyTorch Version:\", torch.__version__)\n",
        "print(\"CUDA Available:\", torch.cuda.is_available())\n",
        "print(\"CUDA Version:\", torch.version.cuda)\n",
        "if torch.cuda.is_available():\n",
        "    print(\"CUDA Device Name:\", torch.cuda.get_device_name(0))\n",
        "    print(\"Current CUDA Device ID:\", torch.cuda.current_device())\n"
      ]
    },
    {
      "cell_type": "code",
      "source": [
        "# from google.colab import drive\n",
        "# drive.mount('/content/drive')"
      ],
      "metadata": {
        "colab": {
          "base_uri": "https://localhost:8080/"
        },
        "id": "tgYd9rDmWrYl",
        "outputId": "0a8e35a1-ae8e-4a09-e2d4-cc7c85875ee0"
      },
      "id": "tgYd9rDmWrYl",
      "execution_count": 4,
      "outputs": [
        {
          "output_type": "stream",
          "name": "stdout",
          "text": [
            "Mounted at /content/drive\n"
          ]
        }
      ]
    },
    {
      "cell_type": "code",
      "source": [
        "# from zipfile import ZipFile\n",
        "\n",
        "# # Specify the zip file path\n",
        "# zip_ref = ZipFile(\"/content/drive/MyDrive/CHM/breast.zip\", 'r')\n",
        "\n",
        "# # Extract all files to the current directory (you can specify a different path)\n",
        "# zip_ref.extractall()\n",
        "\n",
        "# zip_ref.close()"
      ],
      "metadata": {
        "id": "N5u4gt-zW5ax"
      },
      "id": "N5u4gt-zW5ax",
      "execution_count": 6,
      "outputs": []
    },
    {
      "cell_type": "code",
      "source": [
        "# import os\n",
        "# from torchvision import transforms, datasets\n",
        "# from torch.utils.data import DataLoader, SubsetRandomSampler\n",
        "# import numpy as np\n",
        "# import torch\n",
        "\n",
        "# # Set the directory for the data\n",
        "# data_dir = '/content/breast/classes/'\n",
        "\n",
        "# # Define transformations\n",
        "# transformations = transforms.Compose([\n",
        "#     transforms.Resize((224, 224)),\n",
        "#     transforms.RandomHorizontalFlip(),\n",
        "#     transforms.ToTensor(),\n",
        "#     transforms.Normalize(mean=[0.485, 0.456, 0.406], std=[0.229, 0.224, 0.225])\n",
        "# ])\n",
        "\n",
        "# # Initialize the dataset using ImageFolder\n",
        "# dataset = datasets.ImageFolder(root=data_dir, transform=transformations)\n",
        "\n",
        "# # Print out class names to verify\n",
        "# print(\"Classes:\", dataset.classes)\n",
        "\n",
        "# # Splitting data indices for training, validation, and testing\n",
        "# np.random.seed(42)\n",
        "# indices = np.random.permutation(len(dataset))\n",
        "# split_train = int(0.7 * len(indices))\n",
        "# split_val = int(0.85 * len(indices))\n",
        "# train_indices, val_indices, test_indices = indices[:split_train], indices[split_train:split_val], indices[split_val:]\n",
        "\n",
        "# # Creating samplers for each set\n",
        "# train_sampler = SubsetRandomSampler(train_indices)\n",
        "# val_sampler = SubsetRandomSampler(val_indices)\n",
        "# test_sampler = SubsetRandomSampler(test_indices)\n",
        "\n",
        "# # Creating DataLoader for each set\n",
        "# train_loader = DataLoader(dataset, batch_size=16, sampler=train_sampler)\n",
        "# val_loader = DataLoader(dataset, batch_size=16, sampler=val_sampler)\n",
        "# test_loader = DataLoader(dataset, batch_size=16, sampler=test_sampler)\n",
        "\n",
        "# # Print out the number of samples in each set\n",
        "# print(\"Number of training samples:\", len(train_indices))\n",
        "# print(\"Number of validation samples:\", len(val_indices))\n",
        "# print(\"Number of test samples:\", len(test_indices))"
      ],
      "metadata": {
        "id": "Qg2iklyVW9Wc"
      },
      "id": "Qg2iklyVW9Wc",
      "execution_count": 16,
      "outputs": []
    },
    {
      "cell_type": "code",
      "source": [
        "# import os\n",
        "# import torch\n",
        "# import numpy as np\n",
        "# import pandas as pd\n",
        "# from torchvision import datasets, transforms\n",
        "# from torch.utils.data import DataLoader, SubsetRandomSampler, Subset\n",
        "# from sklearn.model_selection import StratifiedShuffleSplit\n",
        "# import matplotlib.pyplot as plt\n",
        "\n",
        "# # Metadata loading and preprocessing\n",
        "# metadata_path = '/content/breast/metadata.csv'\n",
        "# metadata = pd.read_csv(metadata_path)\n",
        "\n",
        "# # Calculate class weights based on TumorType in metadata\n",
        "# def estimate_weights_mfb(label):\n",
        "#     class_counts = metadata['TumorType'].value_counts()\n",
        "#     class_weights = class_counts.median() / class_counts.reindex(label, fill_value=0)\n",
        "#     return class_weights.values\n",
        "\n",
        "# label = ['DC', 'F', 'MC', 'LC', 'TA', 'PC', 'PT', 'A']  # Classes as per metadata TumorType\n",
        "# class_weights = torch.FloatTensor(estimate_weights_mfb(label))\n",
        "# print(\"Class weights:\", class_weights)\n",
        "\n",
        "# # Define transformations\n",
        "# transform_train = transforms.Compose([\n",
        "#     transforms.Resize((224, 224)),\n",
        "#     transforms.RandomHorizontalFlip(),\n",
        "#     transforms.RandomRotation(degrees=60),\n",
        "#     transforms.ToTensor(),\n",
        "#     transforms.Normalize(mean=[0.485, 0.456, 0.406], std=[0.229, 0.224, 0.225])\n",
        "# ])\n",
        "\n",
        "# transform_test = transforms.Compose([\n",
        "#     transforms.Resize((224, 224)),\n",
        "#     transforms.ToTensor(),\n",
        "#     transforms.Normalize(mean=[0.485, 0.456, 0.406], std=[0.229, 0.224, 0.225])\n",
        "# ])\n",
        "\n",
        "# # Initialize dataset\n",
        "# data_dir = '/content/breast/classes/'\n",
        "# dataset = datasets.ImageFolder(root=data_dir, transform=transform_train)\n",
        "\n",
        "# data_labels = []\n",
        "# unmatched_entries = []\n",
        "# for img_path, _ in dataset.imgs:\n",
        "#     # Split the path and extract the SlideID\n",
        "#     filename = img_path.split('/')[-1]  # Gets 'SOB_B_A-14-22549AB-100-001.png'\n",
        "#     slide_id = filename.split('-')[2]  # Split by '-' and get the fourth segment\n",
        "\n",
        "#     # Find the matching entry in the metadata\n",
        "#     metadata_entry = metadata[metadata['SlideID'] == slide_id]\n",
        "\n",
        "#     if not metadata_entry.empty:\n",
        "#         tumor_type = metadata_entry['TumorType'].values[0]\n",
        "#         data_labels.append(tumor_type)\n",
        "#     else:\n",
        "#         unmatched_entries.append(slide_id)\n",
        "\n",
        "# # Print the results of the matching process\n",
        "# if unmatched_entries:\n",
        "#     print(f\"Warning: No metadata entries matched for {len(unmatched_entries)} images.\")\n",
        "#     print(\"Unmatched SlideIDs:\", unmatched_entries)\n",
        "# else:\n",
        "#     print(\"All images matched successfully.\")\n",
        "\n",
        "# # Create Stratified Splits\n",
        "# splitter = StratifiedShuffleSplit(n_splits=1, test_size=0.36)\n",
        "# for train_idx, temp_idx in splitter.split(dataset.imgs, data_labels):\n",
        "#     pass  # temp_idx to be further split into validation and test\n",
        "\n",
        "# # Split temp into validation and test\n",
        "# temp_labels = [data_labels[i] for i in temp_idx]\n",
        "# temp_splitter = StratifiedShuffleSplit(n_splits=1, test_size=0.44)  # 0.44 of 0.36 is 0.16 (test size)\n",
        "# for val_idx, test_idx in temp_splitter.split(np.zeros(len(temp_labels)), temp_labels):\n",
        "#     pass\n",
        "\n",
        "# # Loaders\n",
        "# batch_size = 10\n",
        "# train_sampler = SubsetRandomSampler(train_idx)\n",
        "# val_sampler = SubsetRandomSampler(val_idx)\n",
        "# test_sampler = SubsetRandomSampler(test_idx)\n",
        "\n",
        "# train_loader = DataLoader(dataset, batch_size=batch_size, sampler=train_sampler)\n",
        "# val_loader = DataLoader(dataset, batch_size=batch_size, sampler=val_sampler)\n",
        "# test_loader = DataLoader(dataset, batch_size=batch_size, sampler=test_sampler)\n",
        "\n",
        "# # Output sizes\n",
        "# print(f\"Train set size: {len(train_idx)}\")\n",
        "# print(f\"Validation set size: {len(val_idx)}\")\n",
        "# print(f\"Test set size: {len(test_idx)}\")\n",
        "\n",
        "# import matplotlib.pyplot as plt\n",
        "\n",
        "# # Count occurrences of each label\n",
        "# label_counts = pd.Series(data_labels).value_counts().sort_index()\n",
        "\n",
        "# # Plotting\n",
        "# plt.figure(figsize=(10, 6))\n",
        "# label_counts.plot(kind='bar')\n",
        "# plt.xlabel('Tumor Type')\n",
        "# plt.ylabel('Frequency')\n",
        "# plt.title('Distribution of Tumor Types in Dataset')\n",
        "# plt.xticks(rotation=45)\n",
        "# plt.show()\n"
      ],
      "metadata": {
        "colab": {
          "base_uri": "https://localhost:8080/",
          "height": 662
        },
        "id": "QuAiXgiSsOG0",
        "outputId": "dd3ceea8-f8e0-49cb-828e-797cbb6095a9"
      },
      "id": "QuAiXgiSsOG0",
      "execution_count": 46,
      "outputs": [
        {
          "output_type": "stream",
          "name": "stdout",
          "text": [
            "Class weights: tensor([0.1772, 0.6154, 0.7207, 0.9412, 1.0667, 1.1268, 1.3223, 1.4159])\n",
            "All images matched successfully.\n",
            "Train set size: 1331\n",
            "Validation set size: 420\n",
            "Test set size: 330\n"
          ]
        },
        {
          "output_type": "display_data",
          "data": {
            "text/plain": [
              "<Figure size 1000x600 with 1 Axes>"
            ],
            "image/png": "[encoded data removed]"
          },
          "metadata": {}
        }
      ]
    },
    {
      "cell_type": "code",
      "source": [
        "import os\n",
        "import numpy as np\n",
        "import torch\n",
        "from torchvision import transforms, datasets\n",
        "from torch.utils.data import DataLoader, SubsetRandomSampler\n",
        "from torch import nn\n",
        "\n",
        "# Set the directory for the data\n",
        "data_dir = '/content/breast/classes/'\n",
        "\n",
        "# Define transformations with additional data augmentation\n",
        "transformations = transforms.Compose([\n",
        "    transforms.Resize((224, 224)),\n",
        "    transforms.RandomHorizontalFlip(),\n",
        "    transforms.RandomRotation(20),  # Rotates the image by up to 20 degrees\n",
        "    transforms.ColorJitter(brightness=0.2, contrast=0.2),  # Optional: adjust brightness and contrast\n",
        "    transforms.ToTensor(),\n",
        "    transforms.Normalize(mean=[0.485, 0.456, 0.406], std=[0.229, 0.224, 0.225])\n",
        "])\n",
        "\n",
        "# Initialize the dataset using ImageFolder\n",
        "dataset = datasets.ImageFolder(root=data_dir, transform=transformations)\n",
        "\n",
        "# Print out class names to verify\n",
        "print(\"Classes:\", dataset.classes)\n",
        "\n",
        "# Prepare class weights for handling class imbalance\n",
        "class_weights = torch.tensor([0.1778, 0.6154, 0.7273, 0.9412, 1.0667, 1.1429, 1.3333, 1.4545], dtype=torch.float)\n",
        "class_weights = class_weights / class_weights.sum()  # Normalize weights to sum to 1\n",
        "weighted_sampler = torch.utils.data.WeightedRandomSampler(weights=class_weights, num_samples=len(dataset), replacement=True)\n",
        "\n",
        "# Splitting data indices for training, validation, and testing\n",
        "np.random.seed(42)\n",
        "indices = np.random.permutation(len(dataset))\n",
        "split_train = int(0.7 * len(indices))\n",
        "split_val = int(0.85 * len(indices))\n",
        "train_indices, val_indices, test_indices = indices[:split_train], indices[split_train:split_val], indices[split_val:]\n",
        "\n",
        "# Creating samplers for each set using weights\n",
        "train_sampler = SubsetRandomSampler(train_indices)\n",
        "val_sampler = SubsetRandomSampler(val_indices)\n",
        "test_sampler = SubsetRandomSampler(test_indices)\n",
        "\n",
        "# Creating DataLoader for each set\n",
        "train_loader = DataLoader(dataset, batch_size=16, sampler=train_sampler)\n",
        "val_loader = DataLoader(dataset, batch_size=16, sampler=val_sampler)\n",
        "test_loader = DataLoader(dataset, batch_size=16, sampler=test_sampler)\n",
        "\n",
        "# Print out the number of samples in each set\n",
        "print(\"Number of training samples:\", len(train_indices))\n",
        "print(\"Number of validation samples:\", len(val_indices))\n",
        "print(\"Number of test samples:\", len(test_indices))\n"
      ],
      "metadata": {
        "colab": {
          "base_uri": "https://localhost:8080/"
        },
        "id": "A7E6r5Ys7xey",
        "outputId": "96876f0b-0b3e-4516-f8fb-df4efd162da9"
      },
      "id": "A7E6r5Ys7xey",
      "execution_count": 51,
      "outputs": [
        {
          "output_type": "stream",
          "name": "stdout",
          "text": [
            "Classes: ['Adenosis', 'Ductal_Carcinoma', 'Fibroadenoma', 'Lobular_Carcinoma', 'Mucinous_Carcinoma', 'Papillary_Carcinoma', 'Phyllodes_Tumor', 'Tubular_Adenoma']\n",
            "Number of training samples: 1456\n",
            "Number of validation samples: 312\n",
            "Number of test samples: 313\n"
          ]
        }
      ]
    },
    {
      "cell_type": "code",
      "source": [
        "from collections import Counter\n",
        "\n",
        "# Assuming train_idx, val_idx, test_idx are the indices for training, validation, and test sets respectively\n",
        "train_labels = [data_labels[i] for i in train_idx]\n",
        "val_labels = [data_labels[i] for i in val_idx]\n",
        "test_labels = [data_labels[i] for i in test_idx]\n",
        "\n",
        "# Count the occurrences of each class in each subset\n",
        "train_counter = Counter(train_labels)\n",
        "val_counter = Counter(val_labels)\n",
        "test_counter = Counter(test_labels)\n",
        "\n",
        "print(\"Training set class distribution:\", train_counter)\n",
        "print(\"Validation set class distribution:\", val_counter)\n",
        "print(\"Test set class distribution:\", test_counter)\n"
      ],
      "metadata": {
        "colab": {
          "base_uri": "https://localhost:8080/"
        },
        "id": "FWRwMTpQzPLT",
        "outputId": "adb92777-6ee2-40d9-c5d3-8267cc35a483"
      },
      "id": "FWRwMTpQzPLT",
      "execution_count": 52,
      "outputs": [
        {
          "output_type": "stream",
          "name": "stdout",
          "text": [
            "Training set class distribution: Counter({'DC': 599, 'F': 166, 'MC': 142, 'TA': 96, 'PC': 91, 'LC': 88, 'PT': 77, 'A': 72})\n",
            "Validation set class distribution: Counter({'DC': 359, 'A': 61})\n",
            "Test set class distribution: Counter({'DC': 278, 'A': 52})\n"
          ]
        }
      ]
    },
    {
      "cell_type": "code",
      "execution_count": 53,
      "id": "72ded023-8db9-4952-9977-73f9af3affb5",
      "metadata": {
        "colab": {
          "base_uri": "https://localhost:8080/"
        },
        "id": "72ded023-8db9-4952-9977-73f9af3affb5",
        "outputId": "06dd7fc9-da5c-41cd-d8c0-7ca4fbae2f94"
      },
      "outputs": [
        {
          "output_type": "stream",
          "name": "stdout",
          "text": [
            "Model on CUDA: False\n"
          ]
        }
      ],
      "source": [
        "# Load a pretrained ResNet-50 model\n",
        "model = models.resnet50(pretrained=True)\n",
        "\n",
        "# Modify the classifier layer to match the number of classes in your dataset\n",
        "num_features = model.fc.in_features\n",
        "num_classes = len(dataset.classes)\n",
        "model.fc = torch.nn.Linear(num_features, num_classes)\n",
        "\n",
        "# Move the model to GPU if available\n",
        "device = torch.device(\"cuda\" if torch.cuda.is_available() else \"cpu\")\n",
        "model = model.to(device)\n",
        "# Confirm model is on GPU\n",
        "print(\"Model on CUDA:\", next(model.parameters()).is_cuda)"
      ]
    },
    {
      "cell_type": "code",
      "execution_count": 54,
      "id": "a83d1b1e-ba04-4803-9d17-725bf15336f2",
      "metadata": {
        "id": "a83d1b1e-ba04-4803-9d17-725bf15336f2"
      },
      "outputs": [],
      "source": [
        "import torch\n",
        "import torch.optim as optim\n",
        "from torch import nn\n",
        "\n",
        "# Define class weights for handling class imbalance\n",
        "class_weights = torch.tensor([0.1778, 0.6154, 0.7273, 0.9412, 1.0667, 1.1429, 1.3333, 1.4545], dtype=torch.float)\n",
        "if torch.cuda.is_available():\n",
        "    class_weights = class_weights.cuda()  # Move to GPU if CUDA is available\n",
        "\n",
        "# Loss function with class weights\n",
        "criterion = nn.CrossEntropyLoss(weight=class_weights)\n",
        "\n",
        "# Optimizer\n",
        "optimizer = optim.Adam(model.parameters(), lr=0.001)\n"
      ]
    },
    {
      "cell_type": "code",
      "execution_count": 55,
      "id": "4e8e6f6c-bbd5-4504-9306-3367ada4c470",
      "metadata": {
        "id": "4e8e6f6c-bbd5-4504-9306-3367ada4c470"
      },
      "outputs": [],
      "source": [
        "import time\n",
        "\n",
        "def train_model(model, criterion, optimizer, train_loader, val_loader, num_epochs=25, device='cuda'):\n",
        "    model.to(device)\n",
        "    best_acc = 0.0\n",
        "    for epoch in range(num_epochs):\n",
        "        start_time = time.time()  # Start time of the epoch\n",
        "        print(f'Epoch {epoch+1}/{num_epochs}')\n",
        "        print('-' * 10)\n",
        "\n",
        "        # Each epoch has a training and validation phase\n",
        "        for phase in ['train', 'val']:\n",
        "            if phase == 'train':\n",
        "                model.train()  # Set model to training mode\n",
        "                loader = train_loader\n",
        "            else:\n",
        "                model.eval()   # Set model to evaluate mode\n",
        "                loader = val_loader\n",
        "\n",
        "            running_loss = 0.0\n",
        "            running_corrects = 0\n",
        "\n",
        "            # Iterate over data.\n",
        "            for inputs, labels in loader:\n",
        "                inputs = inputs.to(device)\n",
        "                labels = labels.to(device)\n",
        "\n",
        "                # Zero the parameter gradients\n",
        "                optimizer.zero_grad()\n",
        "\n",
        "                # Forward\n",
        "                with torch.set_grad_enabled(phase == 'train'):\n",
        "                    outputs = model(inputs)\n",
        "                    _, preds = torch.max(outputs, 1)\n",
        "                    loss = criterion(outputs, labels)\n",
        "\n",
        "                    # Backward and optimize only if in training phase\n",
        "                    if phase == 'train':\n",
        "                        loss.backward()\n",
        "                        optimizer.step()\n",
        "\n",
        "                # Statistics\n",
        "                running_loss += loss.item() * inputs.size(0)\n",
        "                running_corrects += torch.sum(preds == labels.data)\n",
        "\n",
        "            epoch_loss = running_loss / len(loader.sampler)\n",
        "            epoch_acc = running_corrects.double() / len(loader.sampler)\n",
        "\n",
        "            print(f'{phase.capitalize()} Loss: {epoch_loss:.4f} Acc: {epoch_acc:.4f}')\n",
        "\n",
        "            # Deep copy the model\n",
        "            if phase == 'val' and epoch_acc > best_acc:\n",
        "                best_acc = epoch_acc\n",
        "                best_model_wts = copy.deepcopy(model.state_dict())\n",
        "\n",
        "        end_time = time.time()  # End time of the epoch\n",
        "        print(f'Epoch duration: {end_time - start_time:.2f} seconds')\n",
        "        print()\n",
        "\n",
        "    print('Best val Acc: {:4f}'.format(best_acc))\n",
        "\n",
        "    # Load best model weights\n",
        "    model.load_state_dict(best_model_wts)\n",
        "    return model"
      ]
    },
    {
      "cell_type": "code",
      "execution_count": null,
      "id": "68274794-6397-4af7-ac4b-abcf51d4f2c3",
      "metadata": {
        "colab": {
          "base_uri": "https://localhost:8080/"
        },
        "id": "68274794-6397-4af7-ac4b-abcf51d4f2c3",
        "outputId": "2bf4d88b-0534-4e69-c400-6790b9c6ac5b"
      },
      "outputs": [
        {
          "output_type": "stream",
          "name": "stdout",
          "text": [
            "Epoch 1/100\n",
            "----------\n"
          ]
        }
      ],
      "source": [
        "trained_model = train_model(model, criterion, optimizer, train_loader, val_loader, num_epochs=100, device=device)"
      ]
    },
    {
      "cell_type": "code",
      "execution_count": null,
      "id": "4711d553-41f6-4f2d-8bcf-55eac9bfa727",
      "metadata": {
        "id": "4711d553-41f6-4f2d-8bcf-55eac9bfa727"
      },
      "outputs": [],
      "source": [
        "# Save the entire model\n",
        "torch.save(model, 'O:/Sem3/CHM/Breast_Cancer_Classification/breast/breast/resnet50_breakhis_complete_model.pth')\n"
      ]
    },
    {
      "cell_type": "code",
      "execution_count": null,
      "id": "7600ac33-2c63-4c6e-9a36-57fe94393068",
      "metadata": {
        "id": "7600ac33-2c63-4c6e-9a36-57fe94393068"
      },
      "outputs": [],
      "source": [
        "# Load the entire model\n",
        "complete_model_path = 'O:/Sem3/CHM/Breast_Cancer_Classification/breast/breast/resnet50_breakhis_complete_model.pth'\n",
        "model = torch.load(complete_model_path)\n",
        "model.to('cuda' if torch.cuda.is_available() else 'cpu')\n",
        "model.eval()\n"
      ]
    },
    {
      "cell_type": "markdown",
      "id": "03444376-18d2-4645-9dc4-a0b02bef3f90",
      "metadata": {
        "id": "03444376-18d2-4645-9dc4-a0b02bef3f90"
      },
      "source": [
        "### Evaluation:"
      ]
    },
    {
      "cell_type": "code",
      "execution_count": null,
      "id": "e40f28e5-d597-43db-90df-a9dc1b28d8aa",
      "metadata": {
        "id": "e40f28e5-d597-43db-90df-a9dc1b28d8aa"
      },
      "outputs": [],
      "source": [
        "import numpy as np\n",
        "from sklearn.metrics import classification_report, confusion_matrix\n",
        "import torch\n"
      ]
    },
    {
      "cell_type": "code",
      "execution_count": null,
      "id": "ed8345b4-e5b4-41fc-bc43-9f2eb8a0f474",
      "metadata": {
        "id": "ed8345b4-e5b4-41fc-bc43-9f2eb8a0f474"
      },
      "outputs": [],
      "source": [
        "def evaluate_model(model, test_loader, device):\n",
        "    model.eval()  # Set the model to evaluation mode\n",
        "    true_labels = []\n",
        "    pred_labels = []\n",
        "\n",
        "    with torch.no_grad():\n",
        "        for inputs, labels in test_loader:\n",
        "            inputs = inputs.to(device)\n",
        "            labels = labels.to(device)\n",
        "            outputs = model(inputs)\n",
        "            _, preds = torch.max(outputs, 1)\n",
        "            true_labels.extend(labels.cpu().numpy())\n",
        "            pred_labels.extend(preds.cpu().numpy())\n",
        "\n",
        "    accuracy = np.sum(np.array(true_labels) == np.array(pred_labels)) / len(true_labels)\n",
        "    print(f'Accuracy: {accuracy:.4f}')\n",
        "    print(\"Classification Report:\")\n",
        "    print(classification_report(true_labels, pred_labels, target_names=test_loader.dataset.classes))\n",
        "    print(\"Confusion Matrix:\")\n",
        "    print(confusion_matrix(true_labels, pred_labels))\n"
      ]
    },
    {
      "cell_type": "code",
      "execution_count": null,
      "id": "14cc75c8-5026-4669-b920-ae9ed6aa71a8",
      "metadata": {
        "id": "14cc75c8-5026-4669-b920-ae9ed6aa71a8",
        "outputId": "3d136b01-bc42-41f7-c38a-f04a4cb028c7"
      },
      "outputs": [
        {
          "name": "stdout",
          "output_type": "stream",
          "text": [
            "Accuracy: 0.9553\n",
            "Classification Report:\n",
            "              precision    recall  f1-score   support\n",
            "\n",
            "      benign       0.96      0.89      0.92       345\n",
            "   malignant       0.96      0.98      0.97       842\n",
            "\n",
            "    accuracy                           0.96      1187\n",
            "   macro avg       0.96      0.94      0.94      1187\n",
            "weighted avg       0.96      0.96      0.95      1187\n",
            "\n",
            "Confusion Matrix:\n",
            "[[306  39]\n",
            " [ 14 828]]\n"
          ]
        }
      ],
      "source": [
        "# Evaluate the trained model\n",
        "evaluate_model(trained_model, test_loader, device)\n"
      ]
    }
  ],
  "metadata": {
    "kernelspec": {
      "display_name": "Python 3",
      "name": "python3"
    },
    "language_info": {
      "codemirror_mode": {
        "name": "ipython",
        "version": 3
      },
      "file_extension": ".py",
      "mimetype": "text/x-python",
      "name": "python",
      "nbconvert_exporter": "python",
      "pygments_lexer": "ipython3",
      "version": "3.11.0"
    },
    "colab": {
      "provenance": [],
      "gpuType": "T4"
    },
    "accelerator": "GPU"
  },
  "nbformat": 4,
  "nbformat_minor": 5
}