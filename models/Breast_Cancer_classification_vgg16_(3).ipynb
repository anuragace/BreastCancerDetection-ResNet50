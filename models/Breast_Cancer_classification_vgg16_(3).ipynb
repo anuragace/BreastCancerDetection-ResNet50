{
  "cells": [
    {
      "cell_type": "code",
      "execution_count": null,
      "id": "51bf174b-d648-4c4f-9f0b-7de61aa63741",
      "metadata": {
        "id": "51bf174b-d648-4c4f-9f0b-7de61aa63741",
        "outputId": "9a4d66b5-fcf2-4f40-af11-08c723824af8"
      },
      "outputs": [
        {
          "name": "stdout",
          "output_type": "stream",
          "text": [
            "Requirement already satisfied: torch in o:\\sem3\\env\\lib\\site-packages (2.1.1+cu121)\n",
            "Requirement already satisfied: torchvision in o:\\sem3\\env\\lib\\site-packages (0.16.1+cu121)\n",
            "Requirement already satisfied: filelock in o:\\sem3\\env\\lib\\site-packages (from torch) (3.12.4)\n",
            "Requirement already satisfied: typing-extensions in o:\\sem3\\env\\lib\\site-packages (from torch) (4.5.0)\n",
            "Requirement already satisfied: sympy in o:\\sem3\\env\\lib\\site-packages (from torch) (1.12)\n",
            "Requirement already satisfied: networkx in o:\\sem3\\env\\lib\\site-packages (from torch) (3.2)\n",
            "Requirement already satisfied: jinja2 in o:\\sem3\\env\\lib\\site-packages (from torch) (3.1.2)\n",
            "Requirement already satisfied: fsspec in o:\\sem3\\env\\lib\\site-packages (from torch) (2023.9.2)\n",
            "Requirement already satisfied: numpy in o:\\sem3\\env\\lib\\site-packages (from torchvision) (1.24.3)\n",
            "Requirement already satisfied: requests in o:\\sem3\\env\\lib\\site-packages (from torchvision) (2.31.0)\n",
            "Requirement already satisfied: pillow!=8.3.*,>=5.3.0 in o:\\sem3\\env\\lib\\site-packages (from torchvision) (10.1.0)\n",
            "Requirement already satisfied: MarkupSafe>=2.0 in o:\\sem3\\env\\lib\\site-packages (from jinja2->torch) (2.1.3)\n",
            "Requirement already satisfied: charset-normalizer<4,>=2 in o:\\sem3\\env\\lib\\site-packages (from requests->torchvision) (3.3.0)\n",
            "Requirement already satisfied: idna<4,>=2.5 in o:\\sem3\\env\\lib\\site-packages (from requests->torchvision) (3.4)\n",
            "Requirement already satisfied: urllib3<3,>=1.21.1 in o:\\sem3\\env\\lib\\site-packages (from requests->torchvision) (2.0.6)\n",
            "Requirement already satisfied: certifi>=2017.4.17 in o:\\sem3\\env\\lib\\site-packages (from requests->torchvision) (2023.7.22)\n",
            "Requirement already satisfied: mpmath>=0.19 in o:\\sem3\\env\\lib\\site-packages (from sympy->torch) (1.3.0)\n",
            "Note: you may need to restart the kernel to use updated packages.\n"
          ]
        }
      ],
      "source": [
        "pip install torch torchvision"
      ]
    },
    {
      "cell_type": "code",
      "execution_count": 1,
      "id": "8666d905-0ce8-467e-89e0-c3323e626867",
      "metadata": {
        "id": "8666d905-0ce8-467e-89e0-c3323e626867"
      },
      "outputs": [],
      "source": [
        "import os\n",
        "import torch\n",
        "import torchvision\n",
        "import torchvision.transforms as transforms\n",
        "from torchvision import datasets, models\n",
        "import torch.optim as optim\n",
        "import numpy as np\n",
        "import copy\n",
        "from torch.utils.data import Dataset, DataLoader, SubsetRandomSampler\n",
        "from PIL import Image"
      ]
    },
    {
      "cell_type": "code",
      "execution_count": 2,
      "id": "f09b9675-52b0-45ce-b59a-e26bd3b9f833",
      "metadata": {
        "colab": {
          "base_uri": "https://localhost:8080/"
        },
        "id": "f09b9675-52b0-45ce-b59a-e26bd3b9f833",
        "outputId": "184d8046-ae51-41be-e085-85d2cc05c22c"
      },
      "outputs": [
        {
          "output_type": "stream",
          "name": "stdout",
          "text": [
            "PyTorch Version: 2.2.0+cpu\n",
            "CUDA Available: False\n",
            "CUDA Version: None\n"
          ]
        }
      ],
      "source": [
        "print(\"PyTorch Version:\", torch.__version__)\n",
        "print(\"CUDA Available:\", torch.cuda.is_available())\n",
        "print(\"CUDA Version:\", torch.version.cuda)\n",
        "if torch.cuda.is_available():\n",
        "    print(\"CUDA Device Name:\", torch.cuda.get_device_name(0))\n",
        "    print(\"Current CUDA Device ID:\", torch.cuda.current_device())\n"
      ]
    },
    {
      "cell_type": "code",
      "source": [
        "from google.colab import drive\n",
        "drive.mount('/content/drive')"
      ],
      "metadata": {
        "colab": {
          "base_uri": "https://localhost:8080/"
        },
        "id": "tgYd9rDmWrYl",
        "outputId": "3dd1348c-be82-44eb-c59f-48a6c7fe634f"
      },
      "id": "tgYd9rDmWrYl",
      "execution_count": 3,
      "outputs": [
        {
          "output_type": "stream",
          "name": "stdout",
          "text": [
            "Mounted at /content/drive\n"
          ]
        }
      ]
    },
    {
      "cell_type": "code",
      "source": [
        "from zipfile import ZipFile\n",
        "\n",
        "# Specify the zip file path\n",
        "zip_ref = ZipFile(\"/content/drive/MyDrive/CHM/breast.zip\", 'r')\n",
        "\n",
        "# Extract all files to the current directory (you can specify a different path)\n",
        "zip_ref.extractall()\n",
        "\n",
        "zip_ref.close()"
      ],
      "metadata": {
        "id": "N5u4gt-zW5ax"
      },
      "id": "N5u4gt-zW5ax",
      "execution_count": 4,
      "outputs": []
    },
    {
      "cell_type": "code",
      "source": [
        "import os\n",
        "from torchvision import transforms, datasets\n",
        "from torch.utils.data import DataLoader, SubsetRandomSampler\n",
        "import numpy as np\n",
        "import torch\n",
        "\n",
        "# Set the directory for the data\n",
        "data_dir = '/content/breast/classes/'\n",
        "\n",
        "# Define transformations\n",
        "transformations = transforms.Compose([\n",
        "    transforms.Resize((224, 224)),\n",
        "    transforms.RandomHorizontalFlip(),\n",
        "    transforms.ToTensor(),\n",
        "    transforms.Normalize(mean=[0.485, 0.456, 0.406], std=[0.229, 0.224, 0.225])\n",
        "])\n",
        "\n",
        "# Initialize the dataset using ImageFolder\n",
        "dataset = datasets.ImageFolder(root=data_dir, transform=transformations)\n",
        "\n",
        "# Print out class names to verify\n",
        "print(\"Classes:\", dataset.classes)\n",
        "\n",
        "# Splitting data indices for training, validation, and testing\n",
        "np.random.seed(42)\n",
        "indices = np.random.permutation(len(dataset))\n",
        "split_train = int(0.7 * len(indices))\n",
        "split_val = int(0.85 * len(indices))\n",
        "train_indices, val_indices, test_indices = indices[:split_train], indices[split_train:split_val], indices[split_val:]\n",
        "\n",
        "# Creating samplers for each set\n",
        "train_sampler = SubsetRandomSampler(train_indices)\n",
        "val_sampler = SubsetRandomSampler(val_indices)\n",
        "test_sampler = SubsetRandomSampler(test_indices)\n",
        "\n",
        "# Creating DataLoader for each set\n",
        "train_loader = DataLoader(dataset, batch_size=16, sampler=train_sampler)\n",
        "val_loader = DataLoader(dataset, batch_size=16, sampler=val_sampler)\n",
        "test_loader = DataLoader(dataset, batch_size=16, sampler=test_sampler)\n",
        "\n",
        "# Print out the number of samples in each set\n",
        "print(\"Number of training samples:\", len(train_indices))\n",
        "print(\"Number of validation samples:\", len(val_indices))\n",
        "print(\"Number of test samples:\", len(test_indices))"
      ],
      "metadata": {
        "colab": {
          "base_uri": "https://localhost:8080/"
        },
        "id": "Qg2iklyVW9Wc",
        "outputId": "65b8407b-abc8-45c6-fe69-cf584d62a3bc"
      },
      "id": "Qg2iklyVW9Wc",
      "execution_count": 5,
      "outputs": [
        {
          "output_type": "stream",
          "name": "stdout",
          "text": [
            "Classes: ['Adenosis', 'Ductal_Carcinoma', 'Fibroadenoma', 'Lobular_Carcinoma', 'Mucinous_Carcinoma', 'Papillary_Carcinoma', 'Phyllodes_Tumor', 'Tubular_Adenoma']\n",
            "Number of training samples: 1456\n",
            "Number of validation samples: 312\n",
            "Number of test samples: 313\n"
          ]
        }
      ]
    },
    {
      "cell_type": "code",
      "execution_count": 6,
      "id": "72ded023-8db9-4952-9977-73f9af3affb5",
      "metadata": {
        "colab": {
          "base_uri": "https://localhost:8080/"
        },
        "id": "72ded023-8db9-4952-9977-73f9af3affb5",
        "outputId": "164eab94-f3db-4872-adae-9b1229089442"
      },
      "outputs": [
        {
          "output_type": "stream",
          "name": "stderr",
          "text": [
            "/usr/local/lib/python3.10/dist-packages/torchvision/models/_utils.py:208: UserWarning: The parameter 'pretrained' is deprecated since 0.13 and may be removed in the future, please use 'weights' instead.\n",
            "  warnings.warn(\n",
            "/usr/local/lib/python3.10/dist-packages/torchvision/models/_utils.py:223: UserWarning: Arguments other than a weight enum or `None` for 'weights' are deprecated since 0.13 and may be removed in the future. The current behavior is equivalent to passing `weights=VGG16_Weights.IMAGENET1K_V1`. You can also use `weights=VGG16_Weights.DEFAULT` to get the most up-to-date weights.\n",
            "  warnings.warn(msg)\n",
            "Downloading: \"https://download.pytorch.org/models/vgg16-397923af.pth\" to /root/.cache/torch/hub/checkpoints/vgg16-397923af.pth\n",
            "100%|██████████| 528M/528M [00:02<00:00, 193MB/s]\n"
          ]
        },
        {
          "output_type": "stream",
          "name": "stdout",
          "text": [
            "Model on CUDA: False\n"
          ]
        }
      ],
      "source": [
        "import torch\n",
        "from torchvision import models\n",
        "\n",
        "# Load a pretrained VGG-16 model\n",
        "model = models.vgg16(pretrained=True)\n",
        "\n",
        "# Modify the classifier layer to match the number of classes in your dataset\n",
        "num_features = model.classifier[6].in_features  # Access the in_features of the last layer in the classifier\n",
        "num_classes = len(dataset.classes)\n",
        "model.classifier[6] = torch.nn.Linear(num_features, num_classes)  # Replace the last layer\n",
        "\n",
        "# Move the model to GPU if available\n",
        "device = torch.device(\"cuda\" if torch.cuda.is_available() else \"cpu\")\n",
        "model = model.to(device)\n",
        "\n",
        "# Confirm model is on GPU\n",
        "print(\"Model on CUDA:\", next(model.parameters()).is_cuda)"
      ]
    },
    {
      "cell_type": "code",
      "execution_count": 7,
      "id": "a83d1b1e-ba04-4803-9d17-725bf15336f2",
      "metadata": {
        "id": "a83d1b1e-ba04-4803-9d17-725bf15336f2"
      },
      "outputs": [],
      "source": [
        "# Loss function\n",
        "criterion = torch.nn.CrossEntropyLoss()\n",
        "\n",
        "# Optimizer\n",
        "optimizer = optim.Adam(model.parameters(), lr=0.001)\n"
      ]
    },
    {
      "cell_type": "code",
      "execution_count": 8,
      "id": "4e8e6f6c-bbd5-4504-9306-3367ada4c470",
      "metadata": {
        "id": "4e8e6f6c-bbd5-4504-9306-3367ada4c470"
      },
      "outputs": [],
      "source": [
        "import time\n",
        "\n",
        "def train_model(model, criterion, optimizer, train_loader, val_loader, num_epochs=25, device='cuda'):\n",
        "    model.to(device)\n",
        "    best_acc = 0.0\n",
        "    for epoch in range(num_epochs):\n",
        "        start_time = time.time()  # Start time of the epoch\n",
        "        print(f'Epoch {epoch+1}/{num_epochs}')\n",
        "        print('-' * 10)\n",
        "\n",
        "        # Each epoch has a training and validation phase\n",
        "        for phase in ['train', 'val']:\n",
        "            if phase == 'train':\n",
        "                model.train()  # Set model to training mode\n",
        "                loader = train_loader\n",
        "            else:\n",
        "                model.eval()   # Set model to evaluate mode\n",
        "                loader = val_loader\n",
        "\n",
        "            running_loss = 0.0\n",
        "            running_corrects = 0\n",
        "\n",
        "            # Iterate over data.\n",
        "            for inputs, labels in loader:\n",
        "                inputs = inputs.to(device)\n",
        "                labels = labels.to(device)\n",
        "\n",
        "                # Zero the parameter gradients\n",
        "                optimizer.zero_grad()\n",
        "\n",
        "                # Forward\n",
        "                with torch.set_grad_enabled(phase == 'train'):\n",
        "                    outputs = model(inputs)\n",
        "                    _, preds = torch.max(outputs, 1)\n",
        "                    loss = criterion(outputs, labels)\n",
        "\n",
        "                    # Backward and optimize only if in training phase\n",
        "                    if phase == 'train':\n",
        "                        loss.backward()\n",
        "                        optimizer.step()\n",
        "\n",
        "                # Statistics\n",
        "                running_loss += loss.item() * inputs.size(0)\n",
        "                running_corrects += torch.sum(preds == labels.data)\n",
        "\n",
        "            epoch_loss = running_loss / len(loader.sampler)\n",
        "            epoch_acc = running_corrects.double() / len(loader.sampler)\n",
        "\n",
        "            print(f'{phase.capitalize()} Loss: {epoch_loss:.4f} Acc: {epoch_acc:.4f}')\n",
        "\n",
        "            # Deep copy the model\n",
        "            if phase == 'val' and epoch_acc > best_acc:\n",
        "                best_acc = epoch_acc\n",
        "                best_model_wts = copy.deepcopy(model.state_dict())\n",
        "\n",
        "        end_time = time.time()  # End time of the epoch\n",
        "        print(f'Epoch duration: {end_time - start_time:.2f} seconds')\n",
        "        print()\n",
        "\n",
        "    print('Best val Acc: {:4f}'.format(best_acc))\n",
        "\n",
        "    # Load best model weights\n",
        "    model.load_state_dict(best_model_wts)\n",
        "    return model"
      ]
    },
    {
      "cell_type": "code",
      "execution_count": null,
      "id": "68274794-6397-4af7-ac4b-abcf51d4f2c3",
      "metadata": {
        "colab": {
          "base_uri": "https://localhost:8080/"
        },
        "id": "68274794-6397-4af7-ac4b-abcf51d4f2c3",
        "outputId": "b41d7d5c-3a90-4a8d-96d7-d0851fce1e1a"
      },
      "outputs": [
        {
          "output_type": "stream",
          "name": "stdout",
          "text": [
            "Epoch 1/100\n",
            "----------\n",
            "Train Loss: 2.2121 Acc: 0.3990\n",
            "Val Loss: 1.7273 Acc: 0.4519\n",
            "Epoch duration: 173.54 seconds\n",
            "\n",
            "Epoch 2/100\n",
            "----------\n",
            "Train Loss: 1.7615 Acc: 0.4279\n",
            "Val Loss: 1.6376 Acc: 0.5128\n",
            "Epoch duration: 169.59 seconds\n",
            "\n",
            "Epoch 3/100\n",
            "----------\n",
            "Train Loss: 1.6308 Acc: 0.4766\n",
            "Val Loss: 1.6182 Acc: 0.4712\n",
            "Epoch duration: 174.69 seconds\n",
            "\n",
            "Epoch 4/100\n",
            "----------\n",
            "Train Loss: 1.5796 Acc: 0.4924\n",
            "Val Loss: 1.4762 Acc: 0.5353\n",
            "Epoch duration: 171.03 seconds\n",
            "\n",
            "Epoch 5/100\n",
            "----------\n",
            "Train Loss: 1.5313 Acc: 0.4883\n",
            "Val Loss: 1.3970 Acc: 0.5417\n",
            "Epoch duration: 163.73 seconds\n",
            "\n",
            "Epoch 6/100\n",
            "----------\n",
            "Train Loss: 1.5329 Acc: 0.4863\n",
            "Val Loss: 1.6362 Acc: 0.5192\n",
            "Epoch duration: 165.35 seconds\n",
            "\n",
            "Epoch 7/100\n",
            "----------\n",
            "Train Loss: 1.7865 Acc: 0.4684\n",
            "Val Loss: 1.7740 Acc: 0.4519\n",
            "Epoch duration: 161.99 seconds\n",
            "\n",
            "Epoch 8/100\n",
            "----------\n",
            "Train Loss: 2.8418 Acc: 0.4087\n",
            "Val Loss: 1.8584 Acc: 0.4519\n",
            "Epoch duration: 171.85 seconds\n",
            "\n",
            "Epoch 9/100\n",
            "----------\n",
            "Train Loss: 9.0354 Acc: 0.4341\n",
            "Val Loss: 1.7660 Acc: 0.4519\n",
            "Epoch duration: 164.08 seconds\n",
            "\n",
            "Epoch 10/100\n",
            "----------\n",
            "Train Loss: 15.5402 Acc: 0.4341\n",
            "Val Loss: 1.7494 Acc: 0.4519\n",
            "Epoch duration: 176.07 seconds\n",
            "\n",
            "Epoch 11/100\n",
            "----------\n",
            "Train Loss: 1.7703 Acc: 0.4382\n",
            "Val Loss: 1.7629 Acc: 0.4519\n",
            "Epoch duration: 171.46 seconds\n",
            "\n",
            "Epoch 12/100\n",
            "----------\n",
            "Train Loss: 1.7681 Acc: 0.4382\n",
            "Val Loss: 1.7643 Acc: 0.4519\n",
            "Epoch duration: 167.92 seconds\n",
            "\n",
            "Epoch 13/100\n",
            "----------\n",
            "Train Loss: 1.7720 Acc: 0.4382\n",
            "Val Loss: 1.7575 Acc: 0.4519\n",
            "Epoch duration: 172.37 seconds\n",
            "\n",
            "Epoch 14/100\n",
            "----------\n",
            "Train Loss: 1.7664 Acc: 0.4382\n",
            "Val Loss: 1.7567 Acc: 0.4519\n",
            "Epoch duration: 164.45 seconds\n",
            "\n",
            "Epoch 15/100\n",
            "----------\n",
            "Train Loss: 1.7667 Acc: 0.4382\n",
            "Val Loss: 1.7483 Acc: 0.4519\n",
            "Epoch duration: 175.76 seconds\n",
            "\n",
            "Epoch 16/100\n",
            "----------\n",
            "Train Loss: 1.7693 Acc: 0.4382\n",
            "Val Loss: 1.7483 Acc: 0.4519\n",
            "Epoch duration: 171.89 seconds\n",
            "\n",
            "Epoch 17/100\n",
            "----------\n"
          ]
        }
      ],
      "source": [
        "trained_model = train_model(model, criterion, optimizer, train_loader, val_loader, num_epochs=100, device=device)"
      ]
    },
    {
      "cell_type": "code",
      "execution_count": null,
      "id": "4711d553-41f6-4f2d-8bcf-55eac9bfa727",
      "metadata": {
        "id": "4711d553-41f6-4f2d-8bcf-55eac9bfa727"
      },
      "outputs": [],
      "source": [
        "# Save the entire model\n",
        "torch.save(model, 'O:/Sem3/CHM/Breast_Cancer_Classification/breast/breast/resnet50_breakhis_complete_model.pth')\n"
      ]
    },
    {
      "cell_type": "code",
      "execution_count": null,
      "id": "7600ac33-2c63-4c6e-9a36-57fe94393068",
      "metadata": {
        "id": "7600ac33-2c63-4c6e-9a36-57fe94393068"
      },
      "outputs": [],
      "source": [
        "# Load the entire model\n",
        "complete_model_path = 'O:/Sem3/CHM/Breast_Cancer_Classification/breast/breast/resnet50_breakhis_complete_model.pth'\n",
        "model = torch.load(complete_model_path)\n",
        "model.to('cuda' if torch.cuda.is_available() else 'cpu')\n",
        "model.eval()\n"
      ]
    },
    {
      "cell_type": "markdown",
      "id": "03444376-18d2-4645-9dc4-a0b02bef3f90",
      "metadata": {
        "id": "03444376-18d2-4645-9dc4-a0b02bef3f90"
      },
      "source": [
        "### Evaluation:"
      ]
    },
    {
      "cell_type": "code",
      "execution_count": null,
      "id": "e40f28e5-d597-43db-90df-a9dc1b28d8aa",
      "metadata": {
        "id": "e40f28e5-d597-43db-90df-a9dc1b28d8aa"
      },
      "outputs": [],
      "source": [
        "import numpy as np\n",
        "from sklearn.metrics import classification_report, confusion_matrix\n",
        "import torch\n"
      ]
    },
    {
      "cell_type": "code",
      "execution_count": null,
      "id": "ed8345b4-e5b4-41fc-bc43-9f2eb8a0f474",
      "metadata": {
        "id": "ed8345b4-e5b4-41fc-bc43-9f2eb8a0f474"
      },
      "outputs": [],
      "source": [
        "def evaluate_model(model, test_loader, device):\n",
        "    model.eval()  # Set the model to evaluation mode\n",
        "    true_labels = []\n",
        "    pred_labels = []\n",
        "\n",
        "    with torch.no_grad():\n",
        "        for inputs, labels in test_loader:\n",
        "            inputs = inputs.to(device)\n",
        "            labels = labels.to(device)\n",
        "            outputs = model(inputs)\n",
        "            _, preds = torch.max(outputs, 1)\n",
        "            true_labels.extend(labels.cpu().numpy())\n",
        "            pred_labels.extend(preds.cpu().numpy())\n",
        "\n",
        "    accuracy = np.sum(np.array(true_labels) == np.array(pred_labels)) / len(true_labels)\n",
        "    print(f'Accuracy: {accuracy:.4f}')\n",
        "    print(\"Classification Report:\")\n",
        "    print(classification_report(true_labels, pred_labels, target_names=test_loader.dataset.classes))\n",
        "    print(\"Confusion Matrix:\")\n",
        "    print(confusion_matrix(true_labels, pred_labels))\n"
      ]
    },
    {
      "cell_type": "code",
      "execution_count": null,
      "id": "14cc75c8-5026-4669-b920-ae9ed6aa71a8",
      "metadata": {
        "id": "14cc75c8-5026-4669-b920-ae9ed6aa71a8",
        "outputId": "3d136b01-bc42-41f7-c38a-f04a4cb028c7"
      },
      "outputs": [
        {
          "name": "stdout",
          "output_type": "stream",
          "text": [
            "Accuracy: 0.9553\n",
            "Classification Report:\n",
            "              precision    recall  f1-score   support\n",
            "\n",
            "      benign       0.96      0.89      0.92       345\n",
            "   malignant       0.96      0.98      0.97       842\n",
            "\n",
            "    accuracy                           0.96      1187\n",
            "   macro avg       0.96      0.94      0.94      1187\n",
            "weighted avg       0.96      0.96      0.95      1187\n",
            "\n",
            "Confusion Matrix:\n",
            "[[306  39]\n",
            " [ 14 828]]\n"
          ]
        }
      ],
      "source": [
        "# Evaluate the trained model\n",
        "evaluate_model(trained_model, test_loader, device)\n"
      ]
    }
  ],
  "metadata": {
    "kernelspec": {
      "display_name": "Python 3",
      "name": "python3"
    },
    "language_info": {
      "codemirror_mode": {
        "name": "ipython",
        "version": 3
      },
      "file_extension": ".py",
      "mimetype": "text/x-python",
      "name": "python",
      "nbconvert_exporter": "python",
      "pygments_lexer": "ipython3",
      "version": "3.11.0"
    },
    "colab": {
      "provenance": [],
      "gpuType": "V28"
    },
    "accelerator": "TPU"
  },
  "nbformat": 4,
  "nbformat_minor": 5
}